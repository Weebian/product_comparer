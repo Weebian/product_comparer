{
  "nbformat": 4,
  "nbformat_minor": 0,
  "metadata": {
    "colab": {
      "provenance": []
    },
    "kernelspec": {
      "name": "python3",
      "display_name": "Python 3"
    },
    "language_info": {
      "name": "python"
    }
  },
  "cells": [
    {
      "cell_type": "code",
      "source": [
        "!pip install openai"
      ],
      "metadata": {
        "id": "l1L8wwbcEw4E"
      },
      "execution_count": null,
      "outputs": []
    },
    {
      "cell_type": "code",
      "execution_count": 12,
      "metadata": {
        "id": "mDlM5p5YCyLC"
      },
      "outputs": [],
      "source": [
        "import openai\n",
        "import json"
      ]
    },
    {
      "cell_type": "code",
      "source": [
        "openai.api_key = \"<key>\""
      ],
      "metadata": {
        "id": "a0f6OqiiC9i7"
      },
      "execution_count": 13,
      "outputs": []
    },
    {
      "cell_type": "code",
      "source": [
        "def add_prompt():\n",
        "    prompt = 'Compare the specs of the following in a table including price in CAD: '\n",
        "    prods = []\n",
        "    prod = 'temp'\n",
        "\n",
        "    while prod != '':\n",
        "      prod = input('Add product name (Blank if you\\'re done  adding): ')\n",
        "      if prod !=  '':\n",
        "        prods.append(prod)\n",
        "\n",
        "    for prod in prods:\n",
        "      prompt += ' ' + prod\n",
        "    return prompt\n",
        "      \n",
        "def generate_response(prompt):\n",
        "    # Call the OpenAI API to generate a response\n",
        "    response = openai.Completion.create(\n",
        "        engine=\"text-davinci-003\",  # Specify the API model to use\n",
        "        prompt=prompt,\n",
        "        max_tokens=1024,   # Specify the maximum number of tokens to generate\n",
        "        n=1,               # Specify the number of responses to generate\n",
        "        stop=None,          # Specify the stopping sequence to use\n",
        "        temperature=0.6\n",
        "    )\n",
        "    \n",
        "    # Extract the generated response from the API response and print it\n",
        "    output_text = response.choices[0].text.strip()\n",
        "    print(output_text)"
      ],
      "metadata": {
        "id": "u_7exxrjDGaH"
      },
      "execution_count": 16,
      "outputs": []
    },
    {
      "cell_type": "code",
      "source": [
        "# Example usage\n",
        "prompt = add_prompt()\n",
        "generate_response(prompt)"
      ],
      "metadata": {
        "colab": {
          "base_uri": "https://localhost:8080/"
        },
        "id": "VTWaLaEyDKOx",
        "outputId": "aa11738a-5a53-44ab-e488-c42a99afa0a2"
      },
      "execution_count": 17,
      "outputs": [
        {
          "output_type": "stream",
          "name": "stdout",
          "text": [
            "Sorted by (e.g. Price): Dell XPS 13\n",
            "Add product url:  Lenovo IdeaPad S130 (11 inch)\n",
            "Add product url:  Acer Swift 7\n",
            "Add product url:  Microsoft Surface Laptop 3 (13.5inch)\n",
            "Add product url:  Microsoft Surface Book 3 (15-Inch) 2020\n",
            "Add product url: Asus ZenBook 13 UX331\n",
            "Add product url:  LG Gram 13\n",
            "Add product url: HP Envy 13t\n",
            "Add product url:  LG Gram 14\" LG14Z90\n",
            "Add product url: \n",
            "N\n",
            "\n",
            "| Product  | Price in CAD | Screen Size |\n",
            "|----------|--------------|-------------|\n",
            "| Dell XPS 13 | $1,449.99 | 13.4 inch    |\n",
            "| Acer Swift 7 | $1,299.99 | 14 inch     |\n",
            "| Microsoft Surface Laptop 3 (13.5inch) | $1,499.99 | 13.5 inch |\n",
            "| Microsoft Surface Book 3 (15-Inch) 2020 | $2,799.99 | 15 inch  |\n",
            "| Asus ZenBook 13 UX331 | $1,149.99 | 13.3 inch  |\n",
            "| LG Gram 13 | $1,099.99 | 13.3 inch   |\n",
            "| HP Envy 13t | $1,149.99 | 13.3 inch   |\n",
            "| LG Gram 14\" LG14Z90N | $1,499.99 | 14 inch    |\n"
          ]
        }
      ]
    }
  ]
}